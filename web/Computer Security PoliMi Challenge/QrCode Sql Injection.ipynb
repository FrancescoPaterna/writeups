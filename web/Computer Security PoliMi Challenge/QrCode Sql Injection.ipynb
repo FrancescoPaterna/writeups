{
 "cells": [
  {
   "cell_type": "code",
   "execution_count": 75,
   "id": "d9e65033",
   "metadata": {},
   "outputs": [],
   "source": [
    "# Install a pip package in the current Jupyter kernel\n",
    "#import sys\n",
    "#!{sys.executable} -m pip install deqr"
   ]
  },
  {
   "cell_type": "code",
   "execution_count": 95,
   "id": "b9481e77",
   "metadata": {},
   "outputs": [],
   "source": [
    "FILE = \"/home/blackaltair77/Scrivania/necst cyberchall/web/qr/A.png\"\n",
    "username = \"freesdrumox\""
   ]
  },
  {
   "cell_type": "code",
   "execution_count": 77,
   "id": "c4e3d47a",
   "metadata": {},
   "outputs": [
    {
     "name": "stdout",
     "output_type": "stream",
     "text": [
      "QRCode data:\n",
      "\n"
     ]
    }
   ],
   "source": [
    "#FIRST\n",
    "\n",
    "# Import Library\n",
    "import cv2\n",
    "# Name of the QR Code Image file\n",
    "# read the QRCODE image\n",
    "image = cv2.imread(FILE)\n",
    "# initialize the cv2 QRCode detector\n",
    "detector = cv2.QRCodeDetector()\n",
    "# detect and decode\n",
    "data, vertices_array, binary_qrcode = detector.detectAndDecode(image)\n",
    "# if there is a QR code\n",
    "# print the data\n",
    "if vertices_array is not None:\n",
    "  print(\"QRCode data:\")\n",
    "  print(data)\n",
    "else:\n",
    "\n",
    "    \n",
    "    Zzprint(\"There was some error\")"
   ]
  },
  {
   "cell_type": "code",
   "execution_count": 78,
   "id": "b70a27fd",
   "metadata": {},
   "outputs": [
    {
     "name": "stdout",
     "output_type": "stream",
     "text": [
      "\n"
     ]
    }
   ],
   "source": [
    "#SECOND\n",
    "\n",
    "import cv2 as cv\n",
    "im = cv.imread(FILE)\n",
    "det = cv.QRCodeDetector()\n",
    "retval, points, straight_qrcode = det.detectAndDecode(im)\n",
    "\n",
    "print(retval)\n"
   ]
  },
  {
   "cell_type": "code",
   "execution_count": 88,
   "id": "738c7662",
   "metadata": {},
   "outputs": [],
   "source": [
    "#THIRD\n",
    "\n",
    "import cv2\n",
    "import numpy\n",
    "import deqr\n",
    "\n",
    "\n",
    "image_data = cv2.imread(FILE)\n",
    "decoder = deqr.QRdecDecoder()\n",
    "#decoder = deqr.QuircDecoder()\n",
    "decoded_codes = decoder.decode(image_data)"
   ]
  },
  {
   "cell_type": "code",
   "execution_count": 97,
   "id": "0c488862",
   "metadata": {},
   "outputs": [
    {
     "name": "stdout",
     "output_type": "stream",
     "text": [
      "[QRCode(version=8, ecc_level=QREccLevel.M, mask=2, data_entries=(QrCodeData(type=QRDataType.BYTE, data=bhpgQ610S5CvjALOxFSCxxYsANyMJxZjFMVkH5cOr1114ckGW9fl6mTwXCdHD4B571yzz5Yc3rrtGf91BWGBAA3igZ7QiCqZXNVG9nBP2zOWPTr8dx0DV9BIGGBak),), corners=((39, 39), (529, 42), (529, 529), (42, 529)), center=(4, 4))]\n"
     ]
    }
   ],
   "source": [
    "print(decoded_codes)"
   ]
  },
  {
   "cell_type": "code",
   "execution_count": 93,
   "id": "ba4c01f3",
   "metadata": {},
   "outputs": [],
   "source": [
    "def get_filename(token, user):   #data, user\n",
    "    query = text('''\n",
    "        SELECT filename FROM qrcodes, users\n",
    "        WHERE qrcodes.user = users.username AND users.username = :user\n",
    "        AND qrcodes.token = \"%s\"\n",
    "        LIMIT 1\n",
    "    ''' % token)\n",
    "    result = db.engine.execute(query, user=user).fetchone()\n",
    "    if result:\n",
    "        return result.filename\n",
    "    return None"
   ]
  },
  {
   "cell_type": "code",
   "execution_count": 91,
   "id": "4cef5621",
   "metadata": {},
   "outputs": [],
   "source": [
    "def retrieve_file(path, username):\n",
    "    filename = get_filename(path, username)\n",
    "\n",
    "    fpath = os.path.join(\n",
    "                config.FILE_STORAGE,\n",
    "                lm.user.username, filename)\n",
    "\n",
    "    with open(fpath, 'r') as f:\n",
    "        fcontent = f.read()\n",
    "        return fcontent"
   ]
  },
  {
   "cell_type": "code",
   "execution_count": 96,
   "id": "154fc40f",
   "metadata": {},
   "outputs": [
    {
     "ename": "NameError",
     "evalue": "name 'text' is not defined",
     "output_type": "error",
     "traceback": [
      "\u001b[0;31m---------------------------------------------------------------------------\u001b[0m",
      "\u001b[0;31mNameError\u001b[0m                                 Traceback (most recent call last)",
      "Input \u001b[0;32mIn [96]\u001b[0m, in \u001b[0;36m<cell line: 1>\u001b[0;34m()\u001b[0m\n\u001b[0;32m----> 1\u001b[0m \u001b[43mretrieve_file\u001b[49m\u001b[43m(\u001b[49m\u001b[43mdecoded_codes\u001b[49m\u001b[43m,\u001b[49m\u001b[43musername\u001b[49m\u001b[43m)\u001b[49m\n",
      "Input \u001b[0;32mIn [91]\u001b[0m, in \u001b[0;36mretrieve_file\u001b[0;34m(path, username)\u001b[0m\n\u001b[1;32m      1\u001b[0m \u001b[38;5;28;01mdef\u001b[39;00m \u001b[38;5;21mretrieve_file\u001b[39m(path, username):\n\u001b[0;32m----> 2\u001b[0m     filename \u001b[38;5;241m=\u001b[39m \u001b[43mget_filename\u001b[49m\u001b[43m(\u001b[49m\u001b[43mpath\u001b[49m\u001b[43m,\u001b[49m\u001b[43m \u001b[49m\u001b[43musername\u001b[49m\u001b[43m)\u001b[49m\n\u001b[1;32m      4\u001b[0m     fpath \u001b[38;5;241m=\u001b[39m os\u001b[38;5;241m.\u001b[39mpath\u001b[38;5;241m.\u001b[39mjoin(\n\u001b[1;32m      5\u001b[0m                 config\u001b[38;5;241m.\u001b[39mFILE_STORAGE,\n\u001b[1;32m      6\u001b[0m                 lm\u001b[38;5;241m.\u001b[39muser\u001b[38;5;241m.\u001b[39musername, filename)\n\u001b[1;32m      8\u001b[0m     \u001b[38;5;28;01mwith\u001b[39;00m \u001b[38;5;28mopen\u001b[39m(fpath, \u001b[38;5;124m'\u001b[39m\u001b[38;5;124mr\u001b[39m\u001b[38;5;124m'\u001b[39m) \u001b[38;5;28;01mas\u001b[39;00m f:\n",
      "Input \u001b[0;32mIn [93]\u001b[0m, in \u001b[0;36mget_filename\u001b[0;34m(token, user)\u001b[0m\n\u001b[1;32m      1\u001b[0m \u001b[38;5;28;01mdef\u001b[39;00m \u001b[38;5;21mget_filename\u001b[39m(token, user):\n\u001b[0;32m----> 2\u001b[0m     query \u001b[38;5;241m=\u001b[39m \u001b[43mtext\u001b[49m(\u001b[38;5;124m'''\u001b[39m\n\u001b[1;32m      3\u001b[0m \u001b[38;5;124m        SELECT filename FROM qrcodes, users\u001b[39m\n\u001b[1;32m      4\u001b[0m \u001b[38;5;124m        WHERE qrcodes.user = users.username AND users.username = :user\u001b[39m\n\u001b[1;32m      5\u001b[0m \u001b[38;5;124m        AND qrcodes.token = \u001b[39m\u001b[38;5;124m\"\u001b[39m\u001b[38;5;132;01m%s\u001b[39;00m\u001b[38;5;124m\"\u001b[39m\n\u001b[1;32m      6\u001b[0m \u001b[38;5;124m        LIMIT 1\u001b[39m\n\u001b[1;32m      7\u001b[0m \u001b[38;5;124m    \u001b[39m\u001b[38;5;124m'''\u001b[39m \u001b[38;5;241m%\u001b[39m token)\n\u001b[1;32m      8\u001b[0m     result \u001b[38;5;241m=\u001b[39m db\u001b[38;5;241m.\u001b[39mengine\u001b[38;5;241m.\u001b[39mexecute(query, user\u001b[38;5;241m=\u001b[39muser)\u001b[38;5;241m.\u001b[39mfetchone()\n\u001b[1;32m      9\u001b[0m     \u001b[38;5;28;01mif\u001b[39;00m result:\n",
      "\u001b[0;31mNameError\u001b[0m: name 'text' is not defined"
     ]
    }
   ],
   "source": [
    "retrieve_file(decoded_codes,username)"
   ]
  },
  {
   "cell_type": "code",
   "execution_count": null,
   "id": "b2f10139",
   "metadata": {},
   "outputs": [],
   "source": []
  }
 ],
 "metadata": {
  "kernelspec": {
   "display_name": "Python 3 (ipykernel)",
   "language": "python",
   "name": "python3"
  },
  "language_info": {
   "codemirror_mode": {
    "name": "ipython",
    "version": 3
   },
   "file_extension": ".py",
   "mimetype": "text/x-python",
   "name": "python",
   "nbconvert_exporter": "python",
   "pygments_lexer": "ipython3",
   "version": "3.8.10"
  }
 },
 "nbformat": 4,
 "nbformat_minor": 5
}
